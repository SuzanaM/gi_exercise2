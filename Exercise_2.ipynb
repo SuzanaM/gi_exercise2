{
 "cells": [
  {
   "cell_type": "code",
   "execution_count": 2,
   "metadata": {},
   "outputs": [
    {
     "name": "stdout",
     "output_type": "stream",
     "text": [
      "Number of unmapped reads: 17765\n",
      "Total number of reads: 2921629\n",
      "Number of reads with mapping quality zero: 126628\n",
      "Average mapping quality: 55.91379158681681\n",
      "Average mapping quality without reads with mq==0: 58.446975510921106\n"
     ]
    }
   ],
   "source": [
    "import pysam\n",
    "\n",
    "alignment_file = pysam.AlignmentFile(\"/sbgenomics/project-files/merged-tumor.bam\", \"rb\")\n",
    "\n",
    "s_um = 0\n",
    "s_r = 0\n",
    "s_mq = 0\n",
    "s_mq_zero = 0\n",
    "for i, read in enumerate(alignment_file):\n",
    "  s_r += 1\n",
    "  if read.is_unmapped:\n",
    "    s_um += 1\n",
    "  mq = read.mapping_quality\n",
    "  s_mq += mq\n",
    "  if mq == 0:\n",
    "    s_mq_zero += 1\n",
    "# Average mapping quality\n",
    "a_mq = s_mq/s_r\n",
    "# Average mapping quality if reads with mq==0 are filtered out\n",
    "a_mq_wz = s_mq/(s_r-s_mq_zero)\n",
    "print('Number of unmapped reads: ' + str(s_um))\n",
    "print('Total number of reads: ' + str(s_r))\n",
    "print('Number of reads with mapping quality zero: ' + str(s_mq_zero))\n",
    "print('Average mapping quality: ' + str(a_mq))\n",
    "print('Average mapping quality without reads with mq==0: ' + str(a_mq_wz))"
   ]
  }
 ],
 "metadata": {
  "kernelspec": {
   "display_name": "Python 3",
   "language": "python",
   "name": "python3"
  },
  "language_info": {
   "codemirror_mode": {
    "name": "ipython",
    "version": 3
   },
   "file_extension": ".py",
   "mimetype": "text/x-python",
   "name": "python",
   "nbconvert_exporter": "python",
   "pygments_lexer": "ipython3",
   "version": "3.6.3"
  }
 },
 "nbformat": 4,
 "nbformat_minor": 2
}
